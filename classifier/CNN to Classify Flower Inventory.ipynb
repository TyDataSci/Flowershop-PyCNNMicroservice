{
 "cells": [
  {
   "cell_type": "code",
   "execution_count": 1,
   "metadata": {},
   "outputs": [],
   "source": [
    "import torch \n",
    "import torch.nn as nn\n",
    "import torch.nn.functional as F\n",
    "import torch.optim as optim\n",
    "import torchvision.transforms as transforms\n",
    "from torch.utils.data import Dataset, DataLoader\n",
    "from torchvision.datasets import ImageFolder\n",
    "import matplotlib.pyplot as plt\n",
    "import pandas as pd\n",
    "import numpy as np\n",
    "import os "
   ]
  },
  {
   "cell_type": "code",
   "execution_count": 2,
   "metadata": {},
   "outputs": [],
   "source": [
    "# Hyperparameters\n",
    "NUM_CHANNELS = 3\n",
    "NUM_OUT_CHANNEL = [8,16]\n",
    "IMAGE_W = 200\n",
    "IMAGE_H = 200\n",
    "BATCH_SIZE = 32\n",
    "NUM_EPOCHS = 3\n",
    "LEARNING_RATE = 0.001\n",
    "NUM_CLASSES = 4\n",
    "DEVICE = \"cpu\"\n",
    "\n",
    "\n",
    "class CNN(nn.Module):\n",
    "    def __init__(self,num_channels=3,num_out_channels=[8,16], img_w=200, img_h=200, num_classes=NUM_CLASSES):\n",
    "        super(CNN, self).__init__()\n",
    "        self.num_channels=num_channels\n",
    "        kernel_size=(3,3)\n",
    "        stride=(1,1)\n",
    "        padding=(1,1)\n",
    "        self.num_out_channels = num_out_channels\n",
    "        self.img_w=img_w\n",
    "        self.img_h=img_h\n",
    "        self.conv1 = nn.Conv2d(in_channels=self.num_channels, out_channels=self.num_out_channels[0],\n",
    "                              kernel_size=kernel_size, stride=stride, padding=padding)\n",
    "        self.conv2 = nn.Conv2d(in_channels=self.num_out_channels[0], out_channels=self.num_out_channels[1],\n",
    "                              kernel_size=kernel_size, stride=stride, padding=padding)\n",
    "        self.m_pool = nn.MaxPool2d(kernel_size=(2,2), stride=(2,2))\n",
    "        self.fully_connect = nn.Linear(in_features = int(self.img_w/4)*int(self.img_h/4)*self.num_out_channels[1],\n",
    "                                      out_features=num_classes)\n",
    "    \n",
    "    def forward(self, x):\n",
    "        x = F.relu(self.conv1(x))\n",
    "        x = self.m_pool(x)\n",
    "        x = F.relu(self.conv2(x))\n",
    "        x = self.m_pool(x)\n",
    "        x = self.fully_connect(x.reshape(x.shape[0],-1))\n",
    "        \n",
    "        return x\n",
    "    \n",
    "    \n",
    "    \n",
    "# Init Convolutional Neural Network Model \n",
    "model = CNN()"
   ]
  },
  {
   "cell_type": "code",
   "execution_count": 3,
   "metadata": {},
   "outputs": [
    {
     "data": {
      "text/plain": [
       "CNN(\n",
       "  (conv1): Conv2d(3, 8, kernel_size=(3, 3), stride=(1, 1), padding=(1, 1))\n",
       "  (conv2): Conv2d(8, 16, kernel_size=(3, 3), stride=(1, 1), padding=(1, 1))\n",
       "  (m_pool): MaxPool2d(kernel_size=(2, 2), stride=(2, 2), padding=0, dilation=1, ceil_mode=False)\n",
       "  (fully_connect): Linear(in_features=40000, out_features=4, bias=True)\n",
       ")"
      ]
     },
     "execution_count": 3,
     "metadata": {},
     "output_type": "execute_result"
    }
   ],
   "source": [
    "model"
   ]
  },
  {
   "cell_type": "code",
   "execution_count": 4,
   "metadata": {},
   "outputs": [
    {
     "name": "stdout",
     "output_type": "stream",
     "text": [
      "cuda\n"
     ]
    }
   ],
   "source": [
    "# Device \n",
    "device = \"cuda\" if torch.cuda.is_available() else \"cpu\"\n",
    "print(device)\n",
    "\n",
    "\n",
    "#Model \n",
    "model = CNN(num_channels=NUM_CHANNELS)\n",
    "# Optimizer\n",
    "optimizer = optim.Adam(model.parameters(), lr = LEARNING_RATE)\n",
    "\n",
    "# Loss Function\n",
    "criterion = nn.CrossEntropyLoss()\n",
    "\n",
    "flower_transform = transforms.Compose(\n",
    "    [\n",
    "    transforms.ToPILImage(),\n",
    "    transforms.Resize((IMAGE_W, IMAGE_H)),\n",
    "    transforms.ToTensor(),\n",
    "    transforms.Normalize((0.485,0.456,0.406),(0.229,0.224,0.225))\n",
    "    ])"
   ]
  },
  {
   "cell_type": "code",
   "execution_count": 5,
   "metadata": {},
   "outputs": [],
   "source": [
    "import torchvision\n",
    "\n",
    "data_path = 'C:/Users/tssan/Desktop/classifier/data'\n",
    "flower_transform = transforms.Compose(\n",
    "    [\n",
    "    #transforms.ToPILImage(),\n",
    "    transforms.Resize((IMAGE_W, IMAGE_H)),\n",
    "    transforms.ToTensor(),\n",
    "    transforms.Normalize((0.485,0.456,0.406),(0.229,0.224,0.225))\n",
    "    ])\n",
    "\n",
    "dataset_folder = torchvision.datasets.ImageFolder(data_path, transform=flower_transform)"
   ]
  },
  {
   "cell_type": "code",
   "execution_count": 102,
   "metadata": {},
   "outputs": [
    {
     "name": "stdout",
     "output_type": "stream",
     "text": [
      "Train data, number of batches in an epoch:  18\n",
      "Test data, number of batches in an epoch:  12\n",
      "32\n"
     ]
    }
   ],
   "source": [
    "train_count = int(len(dataset_folder)*.6)\n",
    "test_count = len(dataset_folder) - train_count\n",
    "\n",
    "# Split into test set and train set\n",
    "train_set, test_set = torch.utils.data.random_split(dataset_folder, [train_count,test_count])\n",
    "\n",
    "# define a dataloader\n",
    "\n",
    "train_loader = DataLoader(train_set, batch_size=BATCH_SIZE, shuffle=True)\n",
    "test_loader = DataLoader(test_set, batch_size=BATCH_SIZE, shuffle=True)\n",
    "\n",
    "# Print out some stats about the training data\n",
    "print('Train data, number of batches in an epoch: ', len(train_loader))\n",
    "\n",
    "# Print out some stats about the test data\n",
    "print('Test data, number of batches in an epoch: ', len(test_loader))\n",
    "\n",
    "print(BATCH_SIZE)"
   ]
  },
  {
   "cell_type": "code",
   "execution_count": 8,
   "metadata": {},
   "outputs": [],
   "source": [
    "def train(epoch,running_train_loss, running_train_accuracy):\n",
    "    epoch_avg_train_accuracy = []\n",
    "    running_loss = 0.0\n",
    "    correct = 0.0\n",
    "    total = 0.0\n",
    "    model.train()\n",
    "    model.to(device)\n",
    "    for index, (images,labels) in enumerate(train_loader):\n",
    "        \n",
    "        #send data to device\n",
    "        images = images.to(device)\n",
    "        labels = labels.to(device)\n",
    "        \n",
    "        # Forward \n",
    "        y_hat = model(images)\n",
    "        loss = criterion(y_hat, labels)\n",
    "        running_loss += loss\n",
    "        \n",
    "        # Backward\n",
    "        optimizer.zero_grad()\n",
    "        loss.backward()\n",
    "        optimizer.step()\n",
    "       \n",
    "        # Accuracy \n",
    "        _, predicted = y_hat.max(1)\n",
    "        total += labels.size(0)\n",
    "        correct += predicted.eq(labels).sum().item()\n",
    "        accuracy=100.*correct/total\n",
    "        accuracy = (sum(epoch_avg_train_accuracy) + accuracy)/(len(epoch_avg_train_accuracy)+1)\n",
    "       \n",
    "        # record and print the avg loss over the BATCH_SIZE times batches\n",
    "        running_train_loss.append(running_loss)\n",
    "        epoch_avg_train_accuracy.append(accuracy)\n",
    "        running_train_accuracy.append(accuracy)\n",
    "        print('##Train## Epoch: {}, Batch: {}, Loss: {}, Accuracy: {}'.format(epoch + 1, index+1, running_loss,accuracy))\n",
    "        running_loss = 0.0\n",
    "        correct = 0.0\n",
    "        total = 0.0\n",
    "    return running_train_loss, running_train_accuracy"
   ]
  },
  {
   "cell_type": "code",
   "execution_count": 9,
   "metadata": {},
   "outputs": [],
   "source": [
    "def test(epoch, running_test_loss, running_test_accuracy):\n",
    "    epoch_avg_test_accuracy = []\n",
    "    running_loss = 0.0\n",
    "    correct = 0.0\n",
    "    total = 0.0\n",
    "    model.eval()\n",
    "    model.to(device)\n",
    "    for index, (images,labels) in enumerate(test_loader):\n",
    "        with torch.no_grad():\n",
    "            #send data to device\n",
    "            images = images.to(device)\n",
    "            labels = labels.to(device)\n",
    "\n",
    "            # forward pass to get outputs\n",
    "            y_hat = model(images)\n",
    "\n",
    "            # calculate loss\n",
    "            loss = criterion(y_hat, labels)\n",
    "            running_loss += loss\n",
    "\n",
    "            # accuracy\n",
    "            _, predicted = torch.max(y_hat.data, 1)\n",
    "            total += labels.size(0)\n",
    "            correct += predicted.eq(labels).sum().item()\n",
    "            accuracy=100.*correct/total\n",
    "            accuracy = (sum(epoch_avg_test_accuracy) + accuracy)/(len(epoch_avg_test_accuracy)+1)\n",
    "\n",
    "\n",
    "            # record and print the avg loss & Accuracy over the BATCH_SIZE times batches\n",
    "            running_test_loss.append(running_loss)\n",
    "            epoch_avg_test_accuracy.append(accuracy)\n",
    "            running_test_accuracy.append(accuracy)\n",
    "\n",
    "            # get the predicted class from the maximum value in the output-list of class scores\n",
    "            print('##Test## Epoch: {}, Batch: {}, Loss: {}, Accuracy: {}'.format(epoch + 1, index+1, running_loss,accuracy))\n",
    "            running_loss = 0.0\n",
    "            correct = 0.0\n",
    "            total = 0.0\n",
    "        \n",
    "    return running_test_loss, running_test_accuracy"
   ]
  },
  {
   "cell_type": "code",
   "execution_count": 10,
   "metadata": {},
   "outputs": [
    {
     "name": "stdout",
     "output_type": "stream",
     "text": [
      "##Train## Epoch: 1, Batch: 1, Loss: 1.4195542335510254, Accuracy: 9.375\n",
      "##Train## Epoch: 1, Batch: 2, Loss: 3.5123233795166016, Accuracy: 34.375\n",
      "##Train## Epoch: 1, Batch: 3, Loss: 2.422053813934326, Accuracy: 22.916666666666668\n",
      "##Train## Epoch: 1, Batch: 4, Loss: 0.5888591408729553, Accuracy: 33.85416666666667\n",
      "##Train## Epoch: 1, Batch: 5, Loss: 2.302974224090576, Accuracy: 26.354166666666668\n",
      "##Train## Epoch: 1, Batch: 6, Loss: 1.7527457475662231, Accuracy: 28.4375\n",
      "##Train## Epoch: 1, Batch: 7, Loss: 1.4003560543060303, Accuracy: 31.5625\n",
      "##Train## Epoch: 1, Batch: 8, Loss: 0.8238208889961243, Accuracy: 31.953125\n",
      "##Train## Epoch: 1, Batch: 9, Loss: 0.7833452224731445, Accuracy: 31.953125\n",
      "##Train## Epoch: 1, Batch: 10, Loss: 0.7583005428314209, Accuracy: 30.703125\n",
      "##Train## Epoch: 1, Batch: 11, Loss: 1.054894208908081, Accuracy: 30.98721590909091\n",
      "##Train## Epoch: 1, Batch: 12, Loss: 0.7067693471908569, Accuracy: 31.76846590909091\n",
      "##Train## Epoch: 1, Batch: 13, Loss: 0.911808967590332, Accuracy: 30.32615821678322\n",
      "##Train## Epoch: 1, Batch: 14, Loss: 0.32244446873664856, Accuracy: 33.00472964535465\n",
      "##Train## Epoch: 1, Batch: 15, Loss: 0.2349926233291626, Accuracy: 33.421396312021315\n",
      "##Train## Epoch: 1, Batch: 16, Loss: 0.276836097240448, Accuracy: 33.226083812021315\n",
      "##Train## Epoch: 1, Batch: 17, Loss: 0.42806506156921387, Accuracy: 32.674613223786025\n",
      "##Train## Epoch: 1, Batch: 18, Loss: 0.4314683973789215, Accuracy: 33.16072433489713\n",
      "##Test## Epoch: 1, Batch: 1, Loss: 0.2759461998939514, Accuracy: 87.5\n",
      "##Test## Epoch: 1, Batch: 2, Loss: 0.15521907806396484, Accuracy: 92.1875\n",
      "##Test## Epoch: 1, Batch: 3, Loss: 0.19936595857143402, Accuracy: 91.14583333333333\n",
      "##Test## Epoch: 1, Batch: 4, Loss: 0.23240695893764496, Accuracy: 91.14583333333333\n",
      "##Test## Epoch: 1, Batch: 5, Loss: 0.32892146706581116, Accuracy: 89.27083333333333\n",
      "##Test## Epoch: 1, Batch: 6, Loss: 0.18467184901237488, Accuracy: 90.83333333333333\n",
      "##Test## Epoch: 1, Batch: 7, Loss: 0.35085010528564453, Accuracy: 89.4940476190476\n",
      "##Test## Epoch: 1, Batch: 8, Loss: 0.3363805413246155, Accuracy: 89.4940476190476\n",
      "##Test## Epoch: 1, Batch: 9, Loss: 0.1964440792798996, Accuracy: 90.18849206349205\n",
      "##Test## Epoch: 1, Batch: 10, Loss: 0.27826952934265137, Accuracy: 90.18849206349205\n",
      "##Test## Epoch: 1, Batch: 11, Loss: 0.3764476180076599, Accuracy: 89.90440115440114\n",
      "##Test## Epoch: 1, Batch: 12, Loss: 0.0711689293384552, Accuracy: 90.9460678210678\n",
      "##Train## Epoch: 2, Batch: 1, Loss: 0.28644272685050964, Accuracy: 84.375\n",
      "##Train## Epoch: 2, Batch: 2, Loss: 0.27704647183418274, Accuracy: 87.5\n",
      "##Train## Epoch: 2, Batch: 3, Loss: 0.24985413253307343, Accuracy: 88.54166666666667\n",
      "##Train## Epoch: 2, Batch: 4, Loss: 0.1392233669757843, Accuracy: 89.32291666666667\n",
      "##Train## Epoch: 2, Batch: 5, Loss: 0.34158793091773987, Accuracy: 87.44791666666667\n",
      "##Train## Epoch: 2, Batch: 6, Loss: 0.1705472767353058, Accuracy: 89.01041666666667\n",
      "##Train## Epoch: 2, Batch: 7, Loss: 0.2789396643638611, Accuracy: 86.77827380952382\n",
      "##Train## Epoch: 2, Batch: 8, Loss: 0.15730419754981995, Accuracy: 88.34077380952382\n",
      "##Train## Epoch: 2, Batch: 9, Loss: 0.13747407495975494, Accuracy: 88.68799603174605\n",
      "##Train## Epoch: 2, Batch: 10, Loss: 0.09576518833637238, Accuracy: 89.00049603174605\n",
      "##Train## Epoch: 2, Batch: 11, Loss: 0.12042943388223648, Accuracy: 88.71640512265513\n",
      "##Train## Epoch: 2, Batch: 12, Loss: 0.10292816907167435, Accuracy: 88.71640512265515\n",
      "##Train## Epoch: 2, Batch: 13, Loss: 0.08204955607652664, Accuracy: 88.95678973803976\n",
      "##Train## Epoch: 2, Batch: 14, Loss: 0.07669687271118164, Accuracy: 88.95678973803976\n",
      "##Train## Epoch: 2, Batch: 15, Loss: 0.06425873190164566, Accuracy: 88.95678973803976\n",
      "##Train## Epoch: 2, Batch: 16, Loss: 0.04741635173559189, Accuracy: 88.95678973803976\n",
      "##Train## Epoch: 2, Batch: 17, Loss: 0.06028202548623085, Accuracy: 88.77296620862799\n",
      "##Train## Epoch: 2, Batch: 18, Loss: 0.03197455406188965, Accuracy: 88.9465773197391\n",
      "##Test## Epoch: 2, Batch: 1, Loss: 0.04713224247097969, Accuracy: 96.875\n",
      "##Test## Epoch: 2, Batch: 2, Loss: 0.11157055199146271, Accuracy: 96.875\n",
      "##Test## Epoch: 2, Batch: 3, Loss: 0.04056185111403465, Accuracy: 97.91666666666667\n",
      "##Test## Epoch: 2, Batch: 4, Loss: 0.07895725220441818, Accuracy: 96.35416666666667\n",
      "##Test## Epoch: 2, Batch: 5, Loss: 0.05441723018884659, Accuracy: 97.60416666666667\n",
      "##Test## Epoch: 2, Batch: 6, Loss: 0.030198942869901657, Accuracy: 97.60416666666667\n",
      "##Test## Epoch: 2, Batch: 7, Loss: 0.09047254174947739, Accuracy: 96.71130952380953\n",
      "##Test## Epoch: 2, Batch: 8, Loss: 0.049061428755521774, Accuracy: 97.49255952380953\n",
      "##Test## Epoch: 2, Batch: 9, Loss: 0.02292230725288391, Accuracy: 97.49255952380953\n",
      "##Test## Epoch: 2, Batch: 10, Loss: 0.02576233446598053, Accuracy: 97.49255952380953\n",
      "##Test## Epoch: 2, Batch: 11, Loss: 0.04678613692522049, Accuracy: 97.49255952380953\n",
      "##Test## Epoch: 2, Batch: 12, Loss: 0.08712521940469742, Accuracy: 97.02959656084657\n",
      "##Train## Epoch: 3, Batch: 1, Loss: 0.03036753460764885, Accuracy: 100.0\n",
      "##Train## Epoch: 3, Batch: 2, Loss: 0.06508280336856842, Accuracy: 98.4375\n",
      "##Train## Epoch: 3, Batch: 3, Loss: 0.03620901703834534, Accuracy: 99.47916666666667\n",
      "##Train## Epoch: 3, Batch: 4, Loss: 0.08118849247694016, Accuracy: 98.69791666666667\n",
      "##Train## Epoch: 3, Batch: 5, Loss: 0.01944953203201294, Accuracy: 99.32291666666667\n",
      "##Train## Epoch: 3, Batch: 6, Loss: 0.03728089481592178, Accuracy: 99.32291666666667\n",
      "##Train## Epoch: 3, Batch: 7, Loss: 0.014841217547655106, Accuracy: 99.32291666666667\n",
      "##Train## Epoch: 3, Batch: 8, Loss: 0.008909128606319427, Accuracy: 99.32291666666667\n",
      "##Train## Epoch: 3, Batch: 9, Loss: 0.05706705152988434, Accuracy: 98.97569444444444\n",
      "##Train## Epoch: 3, Batch: 10, Loss: 0.027298659086227417, Accuracy: 99.28819444444444\n",
      "##Train## Epoch: 3, Batch: 11, Loss: 0.013336792588233948, Accuracy: 99.28819444444444\n",
      "##Train## Epoch: 3, Batch: 12, Loss: 0.01044715940952301, Accuracy: 99.28819444444444\n",
      "##Train## Epoch: 3, Batch: 13, Loss: 0.006955191493034363, Accuracy: 99.28819444444443\n",
      "##Train## Epoch: 3, Batch: 14, Loss: 0.015680484473705292, Accuracy: 99.28819444444443\n",
      "##Train## Epoch: 3, Batch: 15, Loss: 0.01616526022553444, Accuracy: 99.28819444444441\n",
      "##Train## Epoch: 3, Batch: 16, Loss: 0.011389918625354767, Accuracy: 99.28819444444441\n",
      "##Train## Epoch: 3, Batch: 17, Loss: 0.014490701258182526, Accuracy: 99.28819444444441\n",
      "##Train## Epoch: 3, Batch: 18, Loss: 0.0017979622352868319, Accuracy: 99.2881944444444\n",
      "##Test## Epoch: 3, Batch: 1, Loss: 0.006148956716060638, Accuracy: 100.0\n",
      "##Test## Epoch: 3, Batch: 2, Loss: 0.004234634339809418, Accuracy: 100.0\n",
      "##Test## Epoch: 3, Batch: 3, Loss: 0.007104605436325073, Accuracy: 100.0\n",
      "##Test## Epoch: 3, Batch: 4, Loss: 0.017326273024082184, Accuracy: 100.0\n",
      "##Test## Epoch: 3, Batch: 5, Loss: 0.029591143131256104, Accuracy: 100.0\n",
      "##Test## Epoch: 3, Batch: 6, Loss: 0.034268565475940704, Accuracy: 99.47916666666667\n",
      "##Test## Epoch: 3, Batch: 7, Loss: 0.0032659918069839478, Accuracy: 99.92559523809523\n",
      "##Test## Epoch: 3, Batch: 8, Loss: 0.019639194011688232, Accuracy: 99.92559523809523\n",
      "##Test## Epoch: 3, Batch: 9, Loss: 0.18372566998004913, Accuracy: 99.578373015873\n",
      "##Test## Epoch: 3, Batch: 10, Loss: 0.06543754041194916, Accuracy: 99.578373015873\n",
      "##Test## Epoch: 3, Batch: 11, Loss: 0.032042257487773895, Accuracy: 99.8624639249639\n",
      "##Test## Epoch: 3, Batch: 12, Loss: 0.01238037459552288, Accuracy: 99.8624639249639\n"
     ]
    }
   ],
   "source": [
    "running_train_loss = []\n",
    "running_train_accuracy = []\n",
    "running_test_loss = []\n",
    "running_test_accuracy = []\n",
    "for epoch in range(NUM_EPOCHS):\n",
    "    running_train_loss, running_train_accuracy = train(epoch,running_train_loss,running_train_accuracy)\n",
    "    running_test_loss, running_test_accuracy = test(epoch,running_test_loss,running_test_accuracy)"
   ]
  },
  {
   "cell_type": "code",
   "execution_count": 11,
   "metadata": {},
   "outputs": [
    {
     "data": {
      "text/plain": [
       "36"
      ]
     },
     "execution_count": 11,
     "metadata": {},
     "output_type": "execute_result"
    }
   ],
   "source": [
    "len(running_train_loss)\n",
    "len(running_test_loss)"
   ]
  },
  {
   "cell_type": "code",
   "execution_count": 12,
   "metadata": {},
   "outputs": [
    {
     "data": {
      "image/png": "[encoded data removed]",
      "text/plain": [
       "<Figure size 432x288 with 1 Axes>"
      ]
     },
     "metadata": {
      "needs_background": "light"
     },
     "output_type": "display_data"
    }
   ],
   "source": [
    "# visualize the loss as the network trained\n",
    "plt.plot(running_train_loss)\n",
    "plt.xlabel(f'{BATCH_SIZE}\\'s of batches')\n",
    "plt.ylabel('training loss')\n",
    "plt.ylim(0 - .01, max(running_train_loss).item()+.5) # consistent scale\n",
    "plt.show()"
   ]
  },
  {
   "cell_type": "code",
   "execution_count": 13,
   "metadata": {},
   "outputs": [
    {
     "data": {
      "image/png": "[encoded data removed]",
      "text/plain": [
       "<Figure size 432x288 with 1 Axes>"
      ]
     },
     "metadata": {
      "needs_background": "light"
     },
     "output_type": "display_data"
    }
   ],
   "source": [
    "# visualize the loss as the network tested\n",
    "plt.plot(running_test_loss)\n",
    "plt.xlabel(f'{BATCH_SIZE}\\'s of batches')\n",
    "plt.ylabel('testing loss')\n",
    "plt.ylim(0 - .01, max(running_test_loss).item()+.5) # consistent scale\n",
    "plt.show()"
   ]
  },
  {
   "cell_type": "code",
   "execution_count": 14,
   "metadata": {},
   "outputs": [
    {
     "data": {
      "image/png": "[encoded data removed]",
      "text/plain": [
       "<Figure size 432x288 with 1 Axes>"
      ]
     },
     "metadata": {
      "needs_background": "light"
     },
     "output_type": "display_data"
    }
   ],
   "source": [
    "# visualize the loss as the network trained\n",
    "plt.plot(running_train_accuracy)\n",
    "plt.xlabel(f'{BATCH_SIZE}\\'s of batches')\n",
    "plt.ylabel('training accuracy')\n",
    "plt.ylim(0- 5, 100 +10) # consistent scale\n",
    "plt.show()"
   ]
  },
  {
   "cell_type": "code",
   "execution_count": 15,
   "metadata": {},
   "outputs": [
    {
     "data": {
      "image/png": "[encoded data removed]",
      "text/plain": [
       "<Figure size 432x288 with 1 Axes>"
      ]
     },
     "metadata": {
      "needs_background": "light"
     },
     "output_type": "display_data"
    }
   ],
   "source": [
    "# visualize the loss as the network tested\n",
    "plt.plot(running_test_accuracy)\n",
    "plt.xlabel(f'{BATCH_SIZE}\\'s of batches')\n",
    "plt.ylabel('testing accuracy')\n",
    "plt.ylim(0, 100+10) # consistent scale\n",
    "plt.show()"
   ]
  },
  {
   "cell_type": "code",
   "execution_count": 16,
   "metadata": {},
   "outputs": [
    {
     "name": "stdout",
     "output_type": "stream",
     "text": [
      "Test Loss: 0.044638\n",
      "\n",
      "Test Accuracy of  full: 100% (101/101)\n",
      "Test Accuracy of   low: 97% (133/136)\n",
      "Test Accuracy of out of stock: 100% ( 7/ 7)\n",
      "Test Accuracy of semi-full: 100% (126/126)\n",
      "\n",
      "Test Accuracy (Overall): 99% (367/370)\n"
     ]
    }
   ],
   "source": [
    "running_test_loss = []\n",
    "model.cpu()\n",
    "classes = dataset_folder.classes\n",
    "\n",
    "# initialize tensor and lists to monitor test loss and accuracy\n",
    "test_loss = torch.zeros(1)\n",
    "class_correct = list(0. for i in range(NUM_CLASSES))\n",
    "class_total = list(0. for i in range(NUM_CLASSES))\n",
    "\n",
    "# set the module to evaluation mode\n",
    "model.eval()\n",
    "\n",
    "for batch_i, data in enumerate(test_loader):\n",
    "    \n",
    "    # get the input images and their corresponding labels\n",
    "    inputs, labels = data\n",
    "    \n",
    "    # forward pass to get outputs\n",
    "    outputs = model(inputs)\n",
    "\n",
    "    # calculate the loss\n",
    "    loss = criterion(outputs, labels)\n",
    "            \n",
    "    # update average test loss \n",
    "    test_loss = test_loss + ((torch.ones(1) / (batch_i + 1)) * (loss.data - test_loss))\n",
    "    running_test_loss.append(test_loss)\n",
    "    # get the predicted class from the maximum value in the output-list of class scores\n",
    "    _, predicted = torch.max(outputs.data, 1)\n",
    "    \n",
    "    # compare predictions to true label\n",
    "    # this creates a `correct` Tensor that holds the number of correctly classified images in a batch\n",
    "    correct = np.squeeze(predicted.eq(labels.data.view_as(predicted)))\n",
    "    \n",
    "    # calculate test accuracy for *each* object class\n",
    "    # we get the scalar value of correct items for a class, by calling `correct[i].item()`\n",
    "    for i in range(len(labels.data)):\n",
    "        label = labels.data[i]\n",
    "        class_correct[label] += correct[i].item()\n",
    "        class_total[label] += 1\n",
    "\n",
    "print('Test Loss: {:.6f}\\n'.format(test_loss.numpy()[0]))\n",
    "\n",
    "for i in range(NUM_CLASSES):\n",
    "    if class_total[i] > 0:\n",
    "        print('Test Accuracy of %5s: %2d%% (%2d/%2d)' % (\n",
    "            classes[i], 100 * class_correct[i] / class_total[i],\n",
    "            np.sum(class_correct[i]), np.sum(class_total[i])))\n",
    "    else:\n",
    "        print('Test Accuracy of %5s: N/A (no training examples)' % (classes[i]))\n",
    "\n",
    "        \n",
    "print('\\nTest Accuracy (Overall): %2d%% (%2d/%2d)' % (\n",
    "    100. * np.sum(class_correct) / np.sum(class_total),\n",
    "    np.sum(class_correct), np.sum(class_total)))"
   ]
  },
  {
   "cell_type": "code",
   "execution_count": 17,
   "metadata": {},
   "outputs": [
    {
     "name": "stdout",
     "output_type": "stream",
     "text": [
      "conv1.weight \t torch.Size([8, 3, 3, 3])\n",
      "conv1.bias \t torch.Size([8])\n",
      "conv2.weight \t torch.Size([16, 8, 3, 3])\n",
      "conv2.bias \t torch.Size([16])\n",
      "fully_connect.weight \t torch.Size([4, 40000])\n",
      "fully_connect.bias \t torch.Size([4])\n"
     ]
    }
   ],
   "source": [
    "for param_tensor in model.state_dict():\n",
    "    print(param_tensor, \"\\t\", model.state_dict()[param_tensor].size())"
   ]
  },
  {
   "cell_type": "code",
   "execution_count": 19,
   "metadata": {},
   "outputs": [],
   "source": [
    "PATH = 'C:/Users/tssan/Desktop/classifier/flowershop_inventory_cnn.pth'\n",
    "torch.save(model.state_dict(), PATH)"
   ]
  }
 ],
 "metadata": {
  "kernelspec": {
   "display_name": "Python 3",
   "language": "python",
   "name": "python3"
  },
  "language_info": {
   "codemirror_mode": {
    "name": "ipython",
    "version": 3
   },
   "file_extension": ".py",
   "mimetype": "text/x-python",
   "name": "python",
   "nbconvert_exporter": "python",
   "pygments_lexer": "ipython3",
   "version": "3.7.3"
  }
 },
 "nbformat": 4,
 "nbformat_minor": 2
}
